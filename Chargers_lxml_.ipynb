{
  "nbformat": 4,
  "nbformat_minor": 0,
  "metadata": {
    "colab": {
      "name": "Chargers lxml .ipynb",
      "provenance": [],
      "collapsed_sections": [],
      "authorship_tag": "ABX9TyN/6Gt81t1bUMTiGm6E/Yz7",
      "include_colab_link": true
    },
    "kernelspec": {
      "name": "python3",
      "display_name": "Python 3"
    },
    "language_info": {
      "name": "python"
    }
  },
  "cells": [
    {
      "cell_type": "markdown",
      "metadata": {
        "id": "view-in-github",
        "colab_type": "text"
      },
      "source": [
        "<a href=\"https://colab.research.google.com/github/OumaymaRedissi/Simulation/blob/main/Chargers_lxml_.ipynb\" target=\"_parent\"><img src=\"https://colab.research.google.com/assets/colab-badge.svg\" alt=\"Open In Colab\"/></a>"
      ]
    },
    {
      "cell_type": "markdown",
      "source": [
        ""
      ],
      "metadata": {
        "id": "QaQXRF6Hks0v"
      }
    },
    {
      "cell_type": "code",
      "execution_count": 1,
      "metadata": {
        "colab": {
          "base_uri": "https://localhost:8080/"
        },
        "id": "9rgrdS35kyk0",
        "outputId": "d2dd0dc8-7312-4e41-e65b-e446e5a3a6be"
      },
      "outputs": [
        {
          "output_type": "stream",
          "name": "stdout",
          "text": [
            "Looking in indexes: https://pypi.org/simple, https://us-python.pkg.dev/colab-wheels/public/simple/\n",
            "Requirement already satisfied: lxml in /usr/local/lib/python3.7/dist-packages (4.2.6)\n"
          ]
        }
      ],
      "source": [
        "!pip install lxml\n",
        "from lxml import etree\n",
        "import pandas as pd \n",
        "#help(etree)"
      ]
    },
    {
      "cell_type": "code",
      "source": [
        "chargers= etree.Element(\"chargers\")\n",
        "charger = etree.SubElement(chargers, \"charger\", id=\"401301237\" ,x=\"4468413.2\" ,y=\"5335744.5\",plug_power=\"22\" ,plug_count=\"2\")\n",
        "etree.tostring(charger)"
      ],
      "metadata": {
        "colab": {
          "base_uri": "https://localhost:8080/"
        },
        "id": "ToVyEC4UnEEN",
        "outputId": "c0c50a8f-f780-4f75-cd26-ea8602503bed"
      },
      "execution_count": 2,
      "outputs": [
        {
          "output_type": "execute_result",
          "data": {
            "text/plain": [
              "b'<charger id=\"401301237\" plug_count=\"2\" plug_power=\"22\" x=\"4468413.2\" y=\"5335744.5\"/>'"
            ]
          },
          "metadata": {},
          "execution_count": 2
        }
      ]
    },
    {
      "cell_type": "code",
      "source": [
        "import xml.etree.ElementTree as ET\n",
        "# parsing directly.\n",
        "tree = ET.parse('charging_stations.xml')\n",
        "root = tree.getroot()\n",
        "# printing the root.\n",
        "print(root)"
      ],
      "metadata": {
        "colab": {
          "base_uri": "https://localhost:8080/"
        },
        "id": "df4EuoaOskov",
        "outputId": "b23fd3a7-8bab-4420-df4f-43b85d563d92"
      },
      "execution_count": 3,
      "outputs": [
        {
          "output_type": "stream",
          "name": "stdout",
          "text": [
            "<Element 'osm' at 0x7fca0296def0>\n"
          ]
        }
      ]
    },
    {
      "cell_type": "markdown",
      "source": [
        ""
      ],
      "metadata": {
        "id": "Lqo4OXxF4w3o"
      }
    },
    {
      "cell_type": "code",
      "source": [
        "def is_float(element) -> bool:\n",
        "    try:\n",
        "        float(element)\n",
        "        return True\n",
        "    except ValueError:\n",
        "        return False"
      ],
      "metadata": {
        "id": "On8ZRt0YMQwD"
      },
      "execution_count": 4,
      "outputs": []
    },
    {
      "cell_type": "markdown",
      "source": [
        "**pp_formatter()** to remove the white spaces and deletes everything after the 'kw'"
      ],
      "metadata": {
        "id": "291_uaGv4Nra"
      }
    },
    {
      "cell_type": "code",
      "source": [
        "def pp_formatter(plug_power:str) -> str:\n",
        "    start_index = plug_power.find(\"kW\")\n",
        "    plug_power = (plug_power[0: start_index:] + plug_power[len(plug_power) + 1::]).replace(' ','')\n",
        "    return plug_power\n",
        "    "
      ],
      "metadata": {
        "id": "KBiLcrU9eOLN"
      },
      "execution_count": 5,
      "outputs": []
    },
    {
      "cell_type": "code",
      "source": [
        "def extractor() :\n",
        "  df = pd.DataFrame([],['id','x','y','plug_power','plug_count'])\n",
        "  for node in root.findall('node'):\n",
        "      id = node.get('id')\n",
        "      lat = node.get('lat')\n",
        "      lon = node.get('lon')\n",
        "      capacity=2 #default capacity =2\n",
        "      list_of_plug_powers=[]\n",
        "      for tag in node.findall('tag'):\n",
        "        att_k=tag.get('k')\n",
        "        att_v=tag.get('v')\n",
        "        if att_k == \"capacity\":\n",
        "          if is_float(att_v):\n",
        "            capacity = int(att_v)\n",
        "        if \"kW\" in att_v :\n",
        "          plug_power_str = pp_formatter(att_v)\n",
        "          if is_float(plug_power_str):\n",
        "            list_of_plug_powers.append(float(plug_power_str))\n",
        "      plug_power = max(list_of_plug_powers, default=22)#default plug power=22\n",
        "      #print(id,lat,lon,plug_power,capacity)\n",
        "      data = {'id':id,'x':lat,'y':lon,'plug_power':plug_power,'plug_count':capacity}\n",
        "      df = df.append(data,ignore_index=True)\n",
        "  \n",
        "  #print(df)\n",
        "  return df\n",
        "       \n",
        "\n",
        "print(extractor())"
      ],
      "metadata": {
        "colab": {
          "base_uri": "https://localhost:8080/"
        },
        "id": "jfR-A8kOyegR",
        "outputId": "6b04f609-e51c-45d2-ec6c-72935555fbf6"
      },
      "execution_count": 6,
      "outputs": [
        {
          "output_type": "stream",
          "name": "stdout",
          "text": [
            "              id           x          y  plug_power  plug_count\n",
            "0            NaN         NaN        NaN         NaN         NaN\n",
            "1            NaN         NaN        NaN         NaN         NaN\n",
            "2            NaN         NaN        NaN         NaN         NaN\n",
            "3            NaN         NaN        NaN         NaN         NaN\n",
            "4            NaN         NaN        NaN         NaN         NaN\n",
            "...          ...         ...        ...         ...         ...\n",
            "1455  9791175803  48.8555664  2.3150384        22.0         6.0\n",
            "1456  9792084981  49.1797976  3.1234451        22.0         2.0\n",
            "1457  9797611182  48.8994232  2.3710185        22.0         6.0\n",
            "1458  9807217413  48.8541853  2.3452424        22.0         5.0\n",
            "1459  9811956662  48.7095969  2.1710766        22.0         2.0\n",
            "\n",
            "[1460 rows x 5 columns]\n"
          ]
        }
      ]
    },
    {
      "cell_type": "code",
      "source": [
        "df = extractor()\n",
        "df.to_csv('file_name.csv')"
      ],
      "metadata": {
        "id": "6hIMB6gtjWTS"
      },
      "execution_count": 7,
      "outputs": []
    }
  ]
}