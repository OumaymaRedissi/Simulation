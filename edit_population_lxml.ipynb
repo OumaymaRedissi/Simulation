{
  "nbformat": 4,
  "nbformat_minor": 0,
  "metadata": {
    "colab": {
      "name": "edit_population_lxml.ipynb",
      "provenance": [],
      "collapsed_sections": [],
      "authorship_tag": "ABX9TyNWY4bbxUjFSFKnDtqGTjcE",
      "include_colab_link": true
    },
    "kernelspec": {
      "name": "python3",
      "display_name": "Python 3"
    },
    "language_info": {
      "name": "python"
    }
  },
  "cells": [
    {
      "cell_type": "markdown",
      "metadata": {
        "id": "view-in-github",
        "colab_type": "text"
      },
      "source": [
        "<a href=\"https://colab.research.google.com/github/OumaymaRedissi/Simulation/blob/main/edit_population_lxml.ipynb\" target=\"_parent\"><img src=\"https://colab.research.google.com/assets/colab-badge.svg\" alt=\"Open In Colab\"/></a>"
      ]
    },
    {
      "cell_type": "markdown",
      "source": [
        "# Editing population file to match matsim format"
      ],
      "metadata": {
        "id": "9R60XBUxcWK6"
      }
    },
    {
      "cell_type": "markdown",
      "source": [
        "Installing"
      ],
      "metadata": {
        "id": "dnB9jQPj5y3E"
      }
    },
    {
      "cell_type": "code",
      "execution_count": null,
      "metadata": {
        "colab": {
          "base_uri": "https://localhost:8080/"
        },
        "id": "9rgrdS35kyk0",
        "outputId": "f928f8da-5285-48a7-99b4-8a7685ddc203"
      },
      "outputs": [
        {
          "output_type": "stream",
          "name": "stdout",
          "text": [
            "Looking in indexes: https://pypi.org/simple, https://us-python.pkg.dev/colab-wheels/public/simple/\n",
            "Requirement already satisfied: lxml in /usr/local/lib/python3.7/dist-packages (4.2.6)\n"
          ]
        }
      ],
      "source": [
        "!pip install lxml\n",
        "import pandas as pd \n"
      ]
    },
    {
      "cell_type": "markdown",
      "source": [
        "File parsing"
      ],
      "metadata": {
        "id": "V2-uxVvQ53Zo"
      }
    },
    {
      "cell_type": "code",
      "source": [
        "import xml.etree.ElementTree as ET\n",
        "# parsing directly.\n",
        "tree = ET.parse('population 11 million agents.xml')\n",
        "root = tree.getroot()\n",
        "# printing the root.\n",
        "print(root)"
      ],
      "metadata": {
        "colab": {
          "base_uri": "https://localhost:8080/"
        },
        "id": "df4EuoaOskov",
        "outputId": "3615122e-4845-407d-9a23-f50795e0988d"
      },
      "execution_count": null,
      "outputs": [
        {
          "output_type": "stream",
          "name": "stdout",
          "text": [
            "<Element 'population' at 0x7fa814d0cfb0>\n"
          ]
        }
      ]
    },
    {
      "cell_type": "markdown",
      "source": [
        "Select agents who own a car, have a job and live within Paris boundaries"
      ],
      "metadata": {
        "id": "zOaVu-XF6GF2"
      }
    },
    {
      "cell_type": "code",
      "source": [
        "for person in root.findall('person'):\n",
        "    for attribute in person.find('attributes').findall('attribute'):\n",
        "      name = attribute.get('name')\n",
        "      text = attribute.text\n",
        "      #print(name, text)\n",
        "      #Agents who own a car\n",
        "      if name==\"carAvailability\" and text==\"none\":\n",
        "        root.remove(person)\n",
        "        break\n",
        "      else :\n",
        "        #Agents who have a job\n",
        "        if name==\"employed\" and text==\"False\":\n",
        "          root.remove(person)\n",
        "          print(\"employed false\")\n",
        "          break\n",
        "        else :\n",
        "          for activity in person.find('plan').findall('activity'):\n",
        "            act_type = activity.get('type')\n",
        "            x = float(activity.get('x'))\n",
        "            y = float(activity.get('y'))\n",
        "            #Agents who work and live within boundaries of Paris\n",
        "            #to verify paris coordinations=\n",
        "            if (act_type==\"home\" or act_type==\"work\") and (x < 250368.66674315158 or  x>269404.2996688014 or y < 6243528.864749566 or y > 6258824.970586713) :\n",
        "              root.remove(person)\n",
        "\n",
        "tree.write('output.xml')\n",
        " "
      ],
      "metadata": {
        "id": "jfR-A8kOyegR"
      },
      "execution_count": 24,
      "outputs": []
    }
  ]
}